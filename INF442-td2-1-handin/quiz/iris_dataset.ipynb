{
 "cells": [
  {
   "cell_type": "code",
   "execution_count": 1,
   "metadata": {},
   "outputs": [
    {
     "name": "stderr",
     "output_type": "stream",
     "text": [
      "c:\\Users\\sabri\\anaconda3\\lib\\site-packages\\pandas\\core\\computation\\expressions.py:20: UserWarning: Pandas requires version '2.7.3' or newer of 'numexpr' (version '2.7.1' currently installed).\n",
      "  from pandas.core.computation.check import NUMEXPR_INSTALLED\n"
     ]
    }
   ],
   "source": [
    "import pandas as pd\n",
    "from sklearn.neighbors import KDTree"
   ]
  },
  {
   "cell_type": "code",
   "execution_count": 24,
   "metadata": {},
   "outputs": [
    {
     "data": {
      "text/html": [
       "<div>\n",
       "<style scoped>\n",
       "    .dataframe tbody tr th:only-of-type {\n",
       "        vertical-align: middle;\n",
       "    }\n",
       "\n",
       "    .dataframe tbody tr th {\n",
       "        vertical-align: top;\n",
       "    }\n",
       "\n",
       "    .dataframe thead th {\n",
       "        text-align: right;\n",
       "    }\n",
       "</style>\n",
       "<table border=\"1\" class=\"dataframe\">\n",
       "  <thead>\n",
       "    <tr style=\"text-align: right;\">\n",
       "      <th></th>\n",
       "      <th>sepal_len</th>\n",
       "      <th>sepal_wid</th>\n",
       "      <th>petal_len</th>\n",
       "      <th>petal_wid</th>\n",
       "      <th>species</th>\n",
       "    </tr>\n",
       "  </thead>\n",
       "  <tbody>\n",
       "    <tr>\n",
       "      <th>0</th>\n",
       "      <td>9.244480</td>\n",
       "      <td>7.60697</td>\n",
       "      <td>4.09570</td>\n",
       "      <td>6.77380</td>\n",
       "      <td>Iris-virginica</td>\n",
       "    </tr>\n",
       "    <tr>\n",
       "      <th>1</th>\n",
       "      <td>6.265530</td>\n",
       "      <td>6.99683</td>\n",
       "      <td>3.92810</td>\n",
       "      <td>4.91140</td>\n",
       "      <td>Iris-virginica</td>\n",
       "    </tr>\n",
       "    <tr>\n",
       "      <th>2</th>\n",
       "      <td>6.751440</td>\n",
       "      <td>3.58948</td>\n",
       "      <td>7.68593</td>\n",
       "      <td>8.75175</td>\n",
       "      <td>Iris-virginica</td>\n",
       "    </tr>\n",
       "    <tr>\n",
       "      <th>3</th>\n",
       "      <td>1.548480</td>\n",
       "      <td>5.36283</td>\n",
       "      <td>7.35442</td>\n",
       "      <td>3.86181</td>\n",
       "      <td>Iris-virginica</td>\n",
       "    </tr>\n",
       "    <tr>\n",
       "      <th>4</th>\n",
       "      <td>4.779240</td>\n",
       "      <td>9.94172</td>\n",
       "      <td>1.17725</td>\n",
       "      <td>9.46061</td>\n",
       "      <td>Iris-versicolor</td>\n",
       "    </tr>\n",
       "    <tr>\n",
       "      <th>...</th>\n",
       "      <td>...</td>\n",
       "      <td>...</td>\n",
       "      <td>...</td>\n",
       "      <td>...</td>\n",
       "      <td>...</td>\n",
       "    </tr>\n",
       "    <tr>\n",
       "      <th>9995</th>\n",
       "      <td>9.219160</td>\n",
       "      <td>1.13951</td>\n",
       "      <td>3.21475</td>\n",
       "      <td>1.99785</td>\n",
       "      <td>Iris-versicolor</td>\n",
       "    </tr>\n",
       "    <tr>\n",
       "      <th>9996</th>\n",
       "      <td>4.652160</td>\n",
       "      <td>5.60719</td>\n",
       "      <td>6.36031</td>\n",
       "      <td>4.76450</td>\n",
       "      <td>Iris-virginica</td>\n",
       "    </tr>\n",
       "    <tr>\n",
       "      <th>9997</th>\n",
       "      <td>7.465590</td>\n",
       "      <td>8.25515</td>\n",
       "      <td>9.80974</td>\n",
       "      <td>6.86652</td>\n",
       "      <td>Iris-virginica</td>\n",
       "    </tr>\n",
       "    <tr>\n",
       "      <th>9998</th>\n",
       "      <td>0.869625</td>\n",
       "      <td>5.84315</td>\n",
       "      <td>5.74667</td>\n",
       "      <td>9.94332</td>\n",
       "      <td>Iris-setosa</td>\n",
       "    </tr>\n",
       "    <tr>\n",
       "      <th>9999</th>\n",
       "      <td>6.992820</td>\n",
       "      <td>2.13700</td>\n",
       "      <td>4.61055</td>\n",
       "      <td>4.68327</td>\n",
       "      <td>Iris-virginica</td>\n",
       "    </tr>\n",
       "  </tbody>\n",
       "</table>\n",
       "<p>10000 rows × 5 columns</p>\n",
       "</div>"
      ],
      "text/plain": [
       "      sepal_len  sepal_wid  petal_len  petal_wid          species\n",
       "0      9.244480    7.60697    4.09570    6.77380   Iris-virginica\n",
       "1      6.265530    6.99683    3.92810    4.91140   Iris-virginica\n",
       "2      6.751440    3.58948    7.68593    8.75175   Iris-virginica\n",
       "3      1.548480    5.36283    7.35442    3.86181   Iris-virginica\n",
       "4      4.779240    9.94172    1.17725    9.46061  Iris-versicolor\n",
       "...         ...        ...        ...        ...              ...\n",
       "9995   9.219160    1.13951    3.21475    1.99785  Iris-versicolor\n",
       "9996   4.652160    5.60719    6.36031    4.76450   Iris-virginica\n",
       "9997   7.465590    8.25515    9.80974    6.86652   Iris-virginica\n",
       "9998   0.869625    5.84315    5.74667    9.94332      Iris-setosa\n",
       "9999   6.992820    2.13700    4.61055    4.68327   Iris-virginica\n",
       "\n",
       "[10000 rows x 5 columns]"
      ]
     },
     "execution_count": 24,
     "metadata": {},
     "output_type": "execute_result"
    }
   ],
   "source": [
    "fname = \"../csv/iris_large.csv\"\n",
    "data = pd.read_csv(fname, delimiter=' ', header=0)\n",
    "data"
   ]
  },
  {
   "cell_type": "code",
   "execution_count": 25,
   "metadata": {},
   "outputs": [
    {
     "name": "stdout",
     "output_type": "stream",
     "text": [
      "\n",
      "building kd-tree... done\n"
     ]
    }
   ],
   "source": [
    "print('\\nbuilding kd-tree...', end='')\n",
    "kdt = KDTree(data.iloc[:,0:4], leaf_size=1, metric='euclidean')\n",
    "print(' done')"
   ]
  },
  {
   "cell_type": "code",
   "execution_count": 26,
   "metadata": {},
   "outputs": [
    {
     "name": "stdout",
     "output_type": "stream",
     "text": [
      "\n",
      "  my measurements [sepal_len, sepal_wid, petal_len, petal_wid] are:  [41.1, 32.2, 23.3, 14.4]\n"
     ]
    }
   ],
   "source": [
    "x = [41.1, 32.2, 23.3, 14.4]\n",
    "print('\\n  my measurements [sepal_len, sepal_wid, petal_len, petal_wid] are: ', x)"
   ]
  },
  {
   "cell_type": "code",
   "execution_count": 32,
   "metadata": {},
   "outputs": [
    {
     "name": "stdout",
     "output_type": "stream",
     "text": [
      "    -> the iris [41.1, 32.2, 23.3, 14.4] is closest to type Iris-virginica\n"
     ]
    }
   ],
   "source": [
    "dist, idx = kdt.query([x], k=5)\n",
    "print(f'    -> the iris {x} is closest to type {data.iloc[idx[0, 0],4]}')"
   ]
  },
  {
   "cell_type": "code",
   "execution_count": 35,
   "metadata": {},
   "outputs": [
    {
     "data": {
      "text/plain": [
       "41.5413225859211"
      ]
     },
     "execution_count": 35,
     "metadata": {},
     "output_type": "execute_result"
    }
   ],
   "source": [
    "dist.mean()"
   ]
  },
  {
   "cell_type": "code",
   "execution_count": 29,
   "metadata": {},
   "outputs": [
    {
     "name": "stdout",
     "output_type": "stream",
     "text": [
      "\t Index/indices of the 1 closest point(s): [6273]\n",
      "\t Distance(s) to the 1 closest point(s): [41.30594886]\n"
     ]
    }
   ],
   "source": [
    "print(f'\\t Index/indices of the {len(idx[0])} closest point(s): {idx[0]}')\n",
    "print(f'\\t Distance(s) to the {len(dist[0])} closest point(s): {dist[0]}')"
   ]
  },
  {
   "cell_type": "code",
   "execution_count": 31,
   "metadata": {},
   "outputs": [
    {
     "data": {
      "text/plain": [
       "sepal_len           9.92065\n",
       "sepal_wid           9.88227\n",
       "petal_len           8.82681\n",
       "petal_wid           9.25459\n",
       "species      Iris-virginica\n",
       "Name: 6273, dtype: object"
      ]
     },
     "execution_count": 31,
     "metadata": {},
     "output_type": "execute_result"
    }
   ],
   "source": [
    "data.iloc[6273]"
   ]
  }
 ],
 "metadata": {
  "kernelspec": {
   "display_name": "base",
   "language": "python",
   "name": "python3"
  },
  "language_info": {
   "codemirror_mode": {
    "name": "ipython",
    "version": 3
   },
   "file_extension": ".py",
   "mimetype": "text/x-python",
   "name": "python",
   "nbconvert_exporter": "python",
   "pygments_lexer": "ipython3",
   "version": "3.8.5"
  }
 },
 "nbformat": 4,
 "nbformat_minor": 2
}
